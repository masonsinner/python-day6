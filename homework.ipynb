{
 "cells": [
  {
   "cell_type": "markdown",
   "metadata": {},
   "source": [
    "# Object-Oriented-Programming (OOP)"
   ]
  },
  {
   "cell_type": "markdown",
   "metadata": {},
   "source": [
    "## Tasks Today:\n",
    "\n",
    "   \n",
    "\n",
    "1) <b>Creating a Class (Initializing/Declaring)</b> <br>\n",
    "2) <b>Using a Class (Instantiating)</b> <br>\n",
    " &nbsp;&nbsp;&nbsp;&nbsp; a) Creating One Instance <br>\n",
    " &nbsp;&nbsp;&nbsp;&nbsp; b) Creating Multiple Instances <br>\n",
    " &nbsp;&nbsp;&nbsp;&nbsp; c) In-Class Exercise #1 - Create a Class 'Car' and instantiate three different makes of cars <br>\n",
    "3) <b>The \\__init\\__() Method</b> <br>\n",
    " &nbsp;&nbsp;&nbsp;&nbsp; a) The 'self' Attribute <br>\n",
    "4) <b>Class Attributes</b> <br>\n",
    " &nbsp;&nbsp;&nbsp;&nbsp; a) Initializing Attributes <br>\n",
    " &nbsp;&nbsp;&nbsp;&nbsp; b) Setting an Attribute Outside of the \\__init\\__() Method <br>\n",
    " &nbsp;&nbsp;&nbsp;&nbsp; c) Setting Defaults for Attributes <br>\n",
    " &nbsp;&nbsp;&nbsp;&nbsp; d) Accessing Class Attributes <br>\n",
    " &nbsp;&nbsp;&nbsp;&nbsp; e) Changing Class Attributes <br>\n",
    " &nbsp;&nbsp;&nbsp;&nbsp; f) In-Class Exercise #2 - Add a color and wheels attribute to your 'Car' class <br>\n",
    "5) <b>Class Methods</b> <br>\n",
    " &nbsp;&nbsp;&nbsp;&nbsp; a) Creating <br>\n",
    " &nbsp;&nbsp;&nbsp;&nbsp; b) Calling <br>\n",
    " &nbsp;&nbsp;&nbsp;&nbsp; c) Modifying an Attribute's Value Through a Method <br>\n",
    " &nbsp;&nbsp;&nbsp;&nbsp; d) Incrementing an Attribute's Value Through a Method <br>\n",
    " &nbsp;&nbsp;&nbsp;&nbsp; e) In-Class Exercise #3 - Add a method that prints the cars color and wheel number, then call them <br>\n",
    "6) <b>Inheritance</b> <br>\n",
    " &nbsp;&nbsp;&nbsp;&nbsp; a) Syntax for Inheriting from a Parent Class <br>\n",
    " &nbsp;&nbsp;&nbsp;&nbsp; b) The \\__init\\__() Method for a Child Class (super()) <br>\n",
    " &nbsp;&nbsp;&nbsp;&nbsp; c) Defining Attributes and Methods for the Child Class <br>\n",
    " &nbsp;&nbsp;&nbsp;&nbsp; d) Method Overriding <br>\n",
    " &nbsp;&nbsp;&nbsp;&nbsp; e) In-Class Exercise #4 - Create a class 'Ford' that inherits from 'Car' class and initialize it as a Blue Ford Explorer with 4 wheels using the super() method <br>\n",
    "7) <b>Classes as Attributes</b> <br>\n",
    "8) <b>Exercises</b> <br>\n",
    " &nbsp;&nbsp;&nbsp;&nbsp; a) Exercise #1 - Turn the shopping cart program from yesterday into an object-oriented program <br>"
   ]
  },
  {
   "cell_type": "code",
   "execution_count": null,
   "metadata": {},
   "outputs": [],
   "source": []
  },
  {
   "cell_type": "markdown",
   "metadata": {},
   "source": [
    "#### Object-Oriented Programming"
   ]
  },
  {
   "cell_type": "markdown",
   "metadata": {},
   "source": [
    "Object-Oriented Programming (OOP) allows us to create programs so that that properties and behaviors are bundled into **objects**. OOP models real-world entities as software objects that have some data associated with them and can perform certain functions."
   ]
  },
  {
   "cell_type": "markdown",
   "metadata": {},
   "source": [
    "## Creating a Class (Initializing/Declaring)\n",
    "<p>When creating a class, function, or even a variable you are initializing that object. Initializing and Declaring occur at the same time in Python, whereas in lower level languages you have to declare an object before initializing it. This is the first step in the process of using a class.</p>"
   ]
  },
  {
   "cell_type": "code",
   "execution_count": 8,
   "metadata": {},
   "outputs": [
    {
     "name": "stdout",
     "output_type": "stream",
     "text": [
      "Help on class Student in module __main__:\n",
      "\n",
      "class Student(builtins.object)\n",
      " |  Data descriptors defined here:\n",
      " |  \n",
      " |  __dict__\n",
      " |      dictionary for instance variables (if defined)\n",
      " |  \n",
      " |  __weakref__\n",
      " |      list of weak references to the object (if defined)\n",
      "\n",
      "{'__module__': '__main__', '__dict__': <attribute '__dict__' of 'Student' objects>, '__weakref__': <attribute '__weakref__' of 'Student' objects>, '__doc__': None}\n"
     ]
    }
   ],
   "source": [
    "# Syntax: class Classname(): or class Classname:  *always capitalize our class names! pep8 guidelines\n",
    "class Student():\n",
    "    pass\n",
    "\n",
    "\n",
    "help(Student)\n",
    "print(Student.__dict__)"
   ]
  },
  {
   "cell_type": "markdown",
   "metadata": {},
   "source": [
    "## Using a Class (Instantiating)\n",
    "<p>The process of creating a class is called <i>Instantiating</i>. Each time you create a variable of that type of class, it is referred to as an <i>Instance</i> of that class. This is the second step in the process of using a class.</p>"
   ]
  },
  {
   "cell_type": "code",
   "execution_count": 8,
   "metadata": {},
   "outputs": [
    {
     "name": "stdout",
     "output_type": "stream",
     "text": [
      "[1, 2, 3, 4]\n",
      "[6, 7, 8, 9, 10]\n"
     ]
    }
   ],
   "source": [
    "a_list = [1, 2, 3, 4]\n",
    "b_list = [6, 7, 8, 9]\n",
    "\n",
    "b_list.append(10)\n",
    "print(a_list)\n",
    "print(b_list)"
   ]
  },
  {
   "cell_type": "markdown",
   "metadata": {},
   "source": [
    "##### Creating One Instance"
   ]
  },
  {
   "cell_type": "code",
   "execution_count": 11,
   "metadata": {},
   "outputs": [
    {
     "name": "stdout",
     "output_type": "stream",
     "text": [
      "<__main__.Student object at 0x000002AE991F0370>\n"
     ]
    },
    {
     "data": {
      "text/plain": [
       "<__main__.Student at 0x2ae991f0370>"
      ]
     },
     "execution_count": 11,
     "metadata": {},
     "output_type": "execute_result"
    }
   ],
   "source": [
    "# variable = Classname()\n",
    "\n",
    "student_1 = Student()\n",
    "\n",
    "print(student_1)\n",
    "student_1"
   ]
  },
  {
   "cell_type": "markdown",
   "metadata": {},
   "source": [
    "##### Creating Multiple Instances"
   ]
  },
  {
   "cell_type": "code",
   "execution_count": 13,
   "metadata": {},
   "outputs": [
    {
     "name": "stdout",
     "output_type": "stream",
     "text": [
      "<__main__.Student object at 0x000002AE991F0160>\n",
      "<__main__.Student object at 0x000002AE991F03D0>\n"
     ]
    }
   ],
   "source": [
    "student_2 = Student()\n",
    "print(student_2)\n",
    "\n",
    "student_3 = Student()\n",
    "print(student_3)"
   ]
  },
  {
   "cell_type": "markdown",
   "metadata": {},
   "source": [
    "##### Adding attributes to instances"
   ]
  },
  {
   "cell_type": "code",
   "execution_count": 14,
   "metadata": {},
   "outputs": [
    {
     "name": "stdout",
     "output_type": "stream",
     "text": [
      "{'first_name': 'Jimmy', 'last_name': 'Smith'}\n",
      "{'first_name': 'Laura', 'last_name': 'Green'}\n"
     ]
    }
   ],
   "source": [
    "# instance.property = value\n",
    "\n",
    "student_1.first_name = 'Jimmy'\n",
    "student_1.last_name = 'Smith'\n",
    "\n",
    "student_2.first_name = 'Laura'\n",
    "student_2.last_name = 'Green'\n",
    "\n",
    "print(student_1.__dict__)\n",
    "print(student_2.__dict__)"
   ]
  },
  {
   "cell_type": "markdown",
   "metadata": {},
   "source": [
    "##### In-Class Exercise #1 - Create a Class 'Car' and Instantiate three different car instances. Add a different make for each car."
   ]
  },
  {
   "cell_type": "code",
   "execution_count": 19,
   "metadata": {},
   "outputs": [
    {
     "name": "stdout",
     "output_type": "stream",
     "text": [
      "{'make': 'ford'}\n",
      "{'make': 'dodge'}\n",
      "{'make': 'tesla'}\n"
     ]
    }
   ],
   "source": [
    "class Car():\n",
    "    pass\n",
    "    \n",
    "car1 = Car()\n",
    "car2 = Car()\n",
    "car3 = Car()\n",
    "\n",
    "car1.make = 'ford'\n",
    "car2.make = 'dodge'\n",
    "car3.make = 'tesla'\n",
    "\n",
    "print(car1.__dict__)\n",
    "print(car2.__dict__)\n",
    "print(car3.__dict__)"
   ]
  },
  {
   "cell_type": "markdown",
   "metadata": {},
   "source": [
    "## The \\__init\\__() Method <br>\n",
    "<p>This method is used in almost every created class, and called only once upon the creation of the class instance. This method will initialize all variables needed for the object.</p>"
   ]
  },
  {
   "cell_type": "markdown",
   "metadata": {},
   "source": [
    "##### The 'self' Attribute <br>\n",
    "<p>This attribute is required to keep track of specific instance's attributes. Without the self attribute, the program would not know how to reference or keep track of an instance's attributes.</p>"
   ]
  },
  {
   "cell_type": "code",
   "execution_count": 20,
   "metadata": {},
   "outputs": [],
   "source": [
    "def create_student(student_instance, first, last, teacher):\n",
    "    student_instance.first_name = first\n",
    "    student_instance.last_name = last\n",
    "    student_instance.teacher = teacher\n",
    "    return student_instance\n"
   ]
  },
  {
   "cell_type": "code",
   "execution_count": 21,
   "metadata": {},
   "outputs": [
    {
     "name": "stdout",
     "output_type": "stream",
     "text": [
      "<__main__.Student object at 0x000002AE991ED720>\n"
     ]
    }
   ],
   "source": [
    "\n",
    "new_student = create_student(Student(), 'Jacob', 'McAdams', 'Wormwood')\n",
    "\n",
    "print(new_student)"
   ]
  },
  {
   "cell_type": "code",
   "execution_count": 24,
   "metadata": {},
   "outputs": [
    {
     "name": "stdout",
     "output_type": "stream",
     "text": [
      "<__main__.Student object at 0x000002AE991EFA30>\n"
     ]
    }
   ],
   "source": [
    "class Student:\n",
    "    def __init__(self, first, last, teacher):\n",
    "        self.first_name = first\n",
    "        self.last_name = last\n",
    "        self.teacher = teacher\n",
    "        \n",
    "        \n",
    "newer_student = Student('Jeff', 'Miller', 'Kelly')\n",
    "\n",
    "print(newer_student)"
   ]
  },
  {
   "cell_type": "markdown",
   "metadata": {},
   "source": [
    "## Class Attributes <br>\n",
    "<p>While variables are inside of a class, they are referred to as attributes and not variables. When someone says 'attribute' you know they're speaking about a class. Attributes can be initialized through the init method, or outside of it.</p>"
   ]
  },
  {
   "cell_type": "markdown",
   "metadata": {},
   "source": [
    "##### Initializing Attributes"
   ]
  },
  {
   "cell_type": "code",
   "execution_count": 25,
   "metadata": {},
   "outputs": [],
   "source": [
    "class Truck:\n",
    "    wheels = 4 # Class attribute\n",
    "    def __init__(self, color, make):\n",
    "        self.color = color # instance attribute(s)\n",
    "        self.make = make\n",
    "        \n",
    "        \n",
    "truck1 = Truck('blue', 'Ford')\n",
    "truck2 = Truck('red', 'Chevy')"
   ]
  },
  {
   "cell_type": "code",
   "execution_count": 26,
   "metadata": {},
   "outputs": [
    {
     "name": "stdout",
     "output_type": "stream",
     "text": [
      "{'color': 'blue', 'make': 'Ford'}\n",
      "{'color': 'red', 'make': 'Chevy'}\n"
     ]
    }
   ],
   "source": [
    "print(truck1.__dict__)\n",
    "print(truck2.__dict__)"
   ]
  },
  {
   "cell_type": "markdown",
   "metadata": {},
   "source": [
    "##### Accessing Class Attributes"
   ]
  },
  {
   "cell_type": "code",
   "execution_count": null,
   "metadata": {
    "scrolled": true
   },
   "outputs": [],
   "source": [
    "# See Above"
   ]
  },
  {
   "cell_type": "markdown",
   "metadata": {},
   "source": [
    "##### Setting Defaults for Attributes"
   ]
  },
  {
   "cell_type": "code",
   "execution_count": 27,
   "metadata": {},
   "outputs": [],
   "source": [
    "class Bike():\n",
    "    \n",
    "    def __init__(self, color, brand='Schwinn'):\n",
    "        self.color = color\n",
    "        self.brand = brand\n",
    "        self.wheels = 2\n",
    "        \n",
    "        \n",
    "my_bike = Bike('blue')\n",
    "your_bike = Bike('red', 'Giant')"
   ]
  },
  {
   "cell_type": "markdown",
   "metadata": {},
   "source": [
    "##### Changing Class Attributes <br>\n",
    "<p>Keep in mind there are global class attributes and then there are attributes only available to each class instance which won't effect other classes.</p>"
   ]
  },
  {
   "cell_type": "code",
   "execution_count": 28,
   "metadata": {},
   "outputs": [],
   "source": [
    "class Truck():\n",
    "    wheels = 4 # Class attribute\n",
    "    \n",
    "    def __init__(self, color, make):\n",
    "        self.color = color # instance attributes\n",
    "        self.make = make"
   ]
  },
  {
   "cell_type": "code",
   "execution_count": 29,
   "metadata": {},
   "outputs": [],
   "source": [
    "truck1 = Truck('black', 'Ford')\n",
    "truck2 = Truck('white', 'GM')"
   ]
  },
  {
   "cell_type": "code",
   "execution_count": 30,
   "metadata": {},
   "outputs": [
    {
     "name": "stdout",
     "output_type": "stream",
     "text": [
      "4\n",
      "4\n",
      "\n",
      "16\n",
      "4\n",
      "\n",
      "16\n",
      "24\n",
      "\n",
      "truck1: {'color': 'black', 'make': 'Ford', 'wheels': 16}\n",
      "truck2: {'color': 'white', 'make': 'GM'}\n",
      "Truck Class: {'__module__': '__main__', 'wheels': 24, '__init__': <function Truck.__init__ at 0x000002AE9ACB8C10>, '__dict__': <attribute '__dict__' of 'Truck' objects>, '__weakref__': <attribute '__weakref__' of 'Truck' objects>, '__doc__': None}\n"
     ]
    }
   ],
   "source": [
    "print(truck1.wheels)\n",
    "print(truck2.wheels)\n",
    "print()\n",
    "truck1.wheels = 16 # Sets an Instance Attribute on truck1\n",
    "print(truck1.wheels)\n",
    "print(truck2.wheels)\n",
    "print()\n",
    "Truck.wheels = 24 # Changes the Class attribute on Truck\n",
    "print(truck1.wheels)\n",
    "print(truck2.wheels)\n",
    "print()\n",
    "print(\"truck1:\",truck1.__dict__)\n",
    "print(\"truck2:\",truck2.__dict__)\n",
    "print(\"Truck Class:\",Truck.__dict__)"
   ]
  },
  {
   "cell_type": "markdown",
   "metadata": {},
   "source": [
    "##### In-Class Exercise 2 - Create an \\__init__ method for your Car class which takes in color and model with a default value for gas_level of 100. Your class should also have a class attribute for model. Once you have created the class, instantiate 3 different cars"
   ]
  },
  {
   "cell_type": "code",
   "execution_count": 72,
   "metadata": {},
   "outputs": [
    {
     "name": "stdout",
     "output_type": "stream",
     "text": [
      "car1 {'color': 'blue', 'model': 'challenger', 'gas_level': 100}\n",
      "car2 {'color': 'green', 'model': 'charger', 'gas_level': 75}\n",
      "car3 {'color': 'pink', 'model': 'durango', 'gas_level': 0}\n",
      "car4 {'color': 'brown', 'model': 'dart', 'gas_level': -10000}\n"
     ]
    }
   ],
   "source": [
    "class Car():\n",
    "    \n",
    "    make = 'dodge'\n",
    "    \n",
    "    def __init__(self, color, model, gas_level = 100):\n",
    "        self.color = color \n",
    "        self.model = model\n",
    "        self.gas_level = gas_level\n",
    "        \n",
    "car1 = Car('blue', 'challenger')\n",
    "car2 = Car('green', 'charger', 75)\n",
    "car3 = Car('pink', 'durango', 0)\n",
    "car4 = Car('brown', 'dart', -10000)\n",
    "\n",
    "print('car1', car1.__dict__)\n",
    "print('car2', car2.__dict__)\n",
    "print('car3', car3.__dict__)\n",
    "print('car4', car4.__dict__)\n",
    "        \n",
    "        \n"
   ]
  },
  {
   "cell_type": "markdown",
   "metadata": {},
   "source": [
    "## Class Methods <br>\n",
    "<p>While inside of a class, functions are referred to as 'methods'. If you hear someone mention methods, they're speaking about classes. Methods are essentially functions, but only callable on the instances of a class.</p>"
   ]
  },
  {
   "cell_type": "markdown",
   "metadata": {},
   "source": [
    "##### Creating"
   ]
  },
  {
   "cell_type": "code",
   "execution_count": 82,
   "metadata": {},
   "outputs": [],
   "source": [
    "class Employee():\n",
    "    raise_amount = 1.05\n",
    "    \n",
    "    def __init__(self, first, last, salary):\n",
    "        self.first = first\n",
    "        self.last = last\n",
    "        self.salary = salary\n",
    "        self.email = first + \".\" + last + \"@company.org\"\n",
    "        \n",
    "    def full_name(self):\n",
    "        return f'{self.first} {self.last}'\n",
    "    \n",
    "    def apply_raise(self):\n",
    "        self.salary = int(self.salary * self.raise_amount)\n",
    "        \n",
    "    def change_last_name(self, last):\n",
    "        self.last = last\n",
    "        self.email = self.first + \".\" + last + \"@company.org\"\n",
    "        \n",
    "    def add_health_benefits(self, provider):\n",
    "        self.insurance = provider\n",
    "    \n",
    "    \n",
    "emp_1 = Employee('Leo', 'Messi', 50000)\n",
    "emp_2 = Employee('Sergio', 'Aguero', 100000)"
   ]
  },
  {
   "cell_type": "code",
   "execution_count": 25,
   "metadata": {},
   "outputs": [
    {
     "data": {
      "text/plain": [
       "'Leo.Messi@company.org'"
      ]
     },
     "execution_count": 25,
     "metadata": {},
     "output_type": "execute_result"
    }
   ],
   "source": [
    "emp_1.email"
   ]
  },
  {
   "cell_type": "markdown",
   "metadata": {},
   "source": [
    "##### Calling"
   ]
  },
  {
   "cell_type": "code",
   "execution_count": 26,
   "metadata": {},
   "outputs": [
    {
     "name": "stdout",
     "output_type": "stream",
     "text": [
      "Leo Messi\n",
      "Sergio Aguero\n"
     ]
    }
   ],
   "source": [
    "# See Above\n",
    "print(emp_1.full_name())\n",
    "print(Employee.full_name(emp_2))"
   ]
  },
  {
   "cell_type": "markdown",
   "metadata": {},
   "source": [
    "##### Modifying an Attribute's Value Through a Method"
   ]
  },
  {
   "cell_type": "code",
   "execution_count": 27,
   "metadata": {},
   "outputs": [
    {
     "name": "stdout",
     "output_type": "stream",
     "text": [
      "{'first': 'Leo', 'last': 'Messi', 'salary': 50000, 'email': 'Leo.Messi@company.org'}\n",
      "{'first': 'Leo', 'last': 'Stanton', 'salary': 50000, 'email': 'Leo.Stanton@company.org'}\n"
     ]
    }
   ],
   "source": [
    "print(emp_1.__dict__)\n",
    "emp_1.change_last_name('Stanton')\n",
    "print(emp_1.__dict__)"
   ]
  },
  {
   "cell_type": "code",
   "execution_count": 28,
   "metadata": {},
   "outputs": [
    {
     "name": "stdout",
     "output_type": "stream",
     "text": [
      "Sergio Aguero\n",
      "Sergio Smith\n"
     ]
    }
   ],
   "source": [
    "print(emp_2.full_name())\n",
    "Employee.change_last_name(emp_2, 'Smith')\n",
    "print(emp_2.full_name())"
   ]
  },
  {
   "cell_type": "markdown",
   "metadata": {},
   "source": [
    "##### Incrementing an Attribute's Value Through a Method"
   ]
  },
  {
   "cell_type": "code",
   "execution_count": 83,
   "metadata": {},
   "outputs": [
    {
     "name": "stdout",
     "output_type": "stream",
     "text": [
      "100000\n",
      "105000\n",
      "110250\n"
     ]
    }
   ],
   "source": [
    "print(emp_2.salary)\n",
    "emp_2.apply_raise()\n",
    "print(emp_2.salary)\n",
    "emp_2.apply_raise()\n",
    "print(emp_2.salary)"
   ]
  },
  {
   "cell_type": "markdown",
   "metadata": {},
   "source": [
    "##### In-Class Exercise #3 - Add two methods to your car class. One method called `drive` that will take in the number of miles and decrease that car's `gas_level` by 1 unit for every 5 miles. Another method called `fill_up` will take in gallons and increase the `gas_level` by 10 units for every gallon."
   ]
  },
  {
   "cell_type": "code",
   "execution_count": 105,
   "metadata": {
    "scrolled": true
   },
   "outputs": [
    {
     "name": "stdout",
     "output_type": "stream",
     "text": [
      "car1 {'color': 'blue', 'model': 'challenger', 'gas_level': 100}\n",
      "car2 {'color': 'green', 'model': 'charger', 'gas_level': 75}\n",
      "car3 {'color': 'pink', 'model': 'durango', 'gas_level': 0}\n",
      "car4 {'color': 'brown', 'model': 'dart', 'gas_level': -10000}\n",
      "The blue challenger has 90 in the tank\n",
      "The pink durango now has 50 in the tank!\n"
     ]
    }
   ],
   "source": [
    "class Car():\n",
    "    \n",
    "    make = 'dodge'\n",
    "    \n",
    "    def __init__(self, color, model, gas_level = 100):\n",
    "        self.color = color \n",
    "        self.model = model\n",
    "        self.gas_level = gas_level\n",
    "        \n",
    "    def drive(self, num_miles):\n",
    "        unit_decrease = num_miles // 5\n",
    "        self.gas_level -= unit_decrease\n",
    "        print(f\"The {self.color} {self.model} has {self.gas_level} in the tank\")\n",
    "        pass \n",
    "    \n",
    "    def fill_up(self, gallons):\n",
    "        unit_increase = gallons * 10 \n",
    "        self.gas_level += unit_increase\n",
    "        print(f\"The {self.color} {self.model} now has {self.gas_level} in the tank!\")\n",
    "        pass \n",
    "        \n",
    "car1 = Car('blue', 'challenger')\n",
    "car2 = Car('green', 'charger', 75)\n",
    "car3 = Car('pink', 'durango', 0)\n",
    "car4 = Car('brown', 'dart', -10000)\n",
    "\n",
    "print('car1', car1.__dict__)\n",
    "print('car2', car2.__dict__)\n",
    "print('car3', car3.__dict__)\n",
    "print('car4', car4.__dict__)\n",
    "\n",
    "car1.drive(50) #gas should output 90, from 100 \n",
    "car3.fill_up(5) #gas should output 50, from 0 \n"
   ]
  },
  {
   "cell_type": "markdown",
   "metadata": {},
   "source": [
    "## Classes as Attributes <br>\n",
    "<p>Classes can also be used as attributes within another class. This is useful in situations where you need to keep variables locally stored, instead of globally stored.</p>"
   ]
  },
  {
   "cell_type": "code",
   "execution_count": 39,
   "metadata": {},
   "outputs": [],
   "source": [
    "class Album:\n",
    "    company = 'Apple Records'\n",
    "    \n",
    "    def __init__(self, title, artist, release_year, song_list=[]):\n",
    "        self.title = title.title()\n",
    "        self.artist = artist.title()\n",
    "        self.release_year = release_year\n",
    "        self.song_list = song_list\n",
    "        \n",
    "    def add_song(self, song):\n",
    "        self.song_list.append(song)\n",
    "        print(f'{song.title} has been added to the album at position {len(self.song_list)}')\n",
    "        \n",
    "        \n",
    "    def play_album(self):\n",
    "        for song in self.song_list:\n",
    "            print(f'playing {song.title} for the next {song.length}')\n",
    "            \n",
    "        \n",
    "        \n",
    "class Song:\n",
    "    \n",
    "    def __init__(self, title, length, features=None):\n",
    "        self.title = title\n",
    "        self.length = length\n",
    "        self.features = features\n",
    "        \n",
    "        \n",
    "abbey_road = Album('Abbey Road', 'The Beatles', 1969)\n",
    "song1 = Song('Come Together', '4:19')\n",
    "song2 = Song('Something', '3:02')\n",
    "song3 = Song(\"Maxwell's Silver Hammer\", '3:27')"
   ]
  },
  {
   "cell_type": "code",
   "execution_count": 40,
   "metadata": {},
   "outputs": [
    {
     "name": "stdout",
     "output_type": "stream",
     "text": [
      "Come Together has been added to the album at position 1\n",
      "Something has been added to the album at position 2\n",
      "Maxwell's Silver Hammer has been added to the album at position 3\n"
     ]
    }
   ],
   "source": [
    "abbey_road.add_song(song1)\n",
    "abbey_road.add_song(song2)\n",
    "abbey_road.add_song(song3)"
   ]
  },
  {
   "cell_type": "code",
   "execution_count": 41,
   "metadata": {},
   "outputs": [
    {
     "name": "stdout",
     "output_type": "stream",
     "text": [
      "playing Come Together for the next 4:19\n",
      "playing Something for the next 3:02\n",
      "playing Maxwell's Silver Hammer for the next 3:27\n"
     ]
    }
   ],
   "source": [
    "abbey_road.play_album()"
   ]
  },
  {
   "cell_type": "markdown",
   "metadata": {},
   "source": [
    "# Exercises"
   ]
  },
  {
   "cell_type": "markdown",
   "metadata": {},
   "source": [
    "### Exercise 1 - Turn the shopping cart program into an object-oriented program"
   ]
  },
  {
   "cell_type": "code",
   "execution_count": null,
   "metadata": {},
   "outputs": [],
   "source": [
    "# Create a class called cart that retains items and has methods to add, remove, and show\n",
    "\n",
    "class ShoppingCart:\n",
    "    def __init__(self):\n",
    "        self.cart = {}\n",
    "        self.items = {\n",
    "            'apples': 1.25,\n",
    "            'bananas': 1.15,\n",
    "            'bread': 2.25,\n",
    "            'rice': 1.75,\n",
    "            'yogurt': 2.50\n",
    "        }\n",
    "\n",
    "    def display_items_for_sale(self):\n",
    "        print(\"\\nHere are the items we have for sale:\")\n",
    "        for item, price in self.items.items():\n",
    "            print(f\"{item}: ${price:.2f}\")\n",
    "        print()\n",
    "\n",
    "    def add_to_cart(self, item):\n",
    "        if item in self.items:\n",
    "            if item in self.cart:\n",
    "                self.cart[item]['quantity'] += 1\n",
    "            else:\n",
    "                self.cart[item] = {'quantity': 1, 'price': self.items[item]}\n",
    "            print(f\"{item} added to cart!\")\n",
    "        else:\n",
    "            print(f\"Sorry, {item} is not in stock currently.\")\n",
    "\n",
    "    def remove_from_cart(self, item):\n",
    "        if item in self.cart:\n",
    "            self.cart[item]['quantity'] -= 1\n",
    "            if self.cart[item]['quantity'] == 0:\n",
    "                del self.cart[item]\n",
    "            print(f\"{item} removed from cart!\")\n",
    "        else:\n",
    "            print(f\"{item} is not in your cart.\")\n",
    "\n",
    "    def display_cart(self):\n",
    "        print(\"\\nHere are the items in your cart:\")\n",
    "        for item, details in self.cart.items():\n",
    "            print(f\"{item}: {details['quantity']} x ${details['price']} = ${details['quantity'] * details['price']:.2f}\")\n",
    "        print()\n",
    "\n",
    "    def checkout(self):\n",
    "        print(\"\\nHere is your e-receipt:\")\n",
    "        total = 0\n",
    "        for item, details in self.cart.items():\n",
    "            print(f\"{item}: {details['quantity']} x ${details['price']} = ${details['quantity'] * details['price']:.2f}\")\n",
    "            total += details['quantity'] * details['price']\n",
    "        print(f\"\\nYour total is ${total:.2f}\")\n",
    "        print(\"Thank you for shopping with us!\\nDon't forget to give a good review on Yelp!\")\n",
    "        self.cart = {}\n",
    "\n",
    "    def start_shopping(self):\n",
    "        print(\"Hello and welcome to the first ever META SHOPPING MART!!!!!!\")\n",
    "        while True:\n",
    "            user_input = input(\"\\nEnter '1' to display items for sale\\nEnter '2' to add an item to your cart\\nEnter '3' to remove an item from your cart\\nEnter '4' to display your cart\\nEnter '5' to checkout\\nEnter '6' to exit\\n\")\n",
    "            if user_input == '1':\n",
    "                self.display_items_for_sale()\n",
    "            elif user_input == '2':\n",
    "                item = input(\"What item would you like to add to your cart: \")\n",
    "                self.add_to_cart(item)\n",
    "            elif user_input == '3':\n",
    "                item = input(\"What item would you like to remove from your cart: \")\n",
    "                self.remove_from_cart(item)\n",
    "            elif user_input == '4':\n",
    "                self.display_cart()\n",
    "            elif user_input == '5':\n",
    "                self.checkout()\n",
    "            elif user_input == '6':\n",
    "                break\n",
    "            else:\n",
    "                print(\"Invalid input, please try again.\")\n",
    "\n",
    "cart = ShoppingCart()\n",
    "cart.start_shopping()\n",
    "\n",
    "\n",
    "#works in VS Code\n"
   ]
  },
  {
   "cell_type": "markdown",
   "metadata": {},
   "source": [
    "### Exercise 2 - Write a Python class for an Animal that has a name and energy attributes. The animal class should also have methods for eat, sleep, and play that will take in an integer and increase/decrease the energy of the animal with a formatted print statement"
   ]
  },
  {
   "cell_type": "code",
   "execution_count": 42,
   "metadata": {},
   "outputs": [],
   "source": [
    "# Example 1\n",
    "# buddy = Animal('Buddy', 10)\n",
    "# buddy.play(5) -> \"Buddy is playing for 5 minutes. His energy is now 5\"\n",
    "# buddy.sleep(10) -> \"Buddy is sleeping for 5 minutes. His energy is now 15\""
   ]
  },
  {
   "cell_type": "code",
   "execution_count": 140,
   "metadata": {},
   "outputs": [
    {
     "name": "stdout",
     "output_type": "stream",
     "text": [
      "*Insert an animal noise here* Thank you for the play time, I now have 95! Thank you!\n",
      "*Insert an animal noise here* Thank you for the play time, I now have 12! Thank you!\n",
      "*Insert an animal noise here* Thank you for the play time, I now have 10! Thank you!\n"
     ]
    }
   ],
   "source": [
    "class Animal():\n",
    "    \n",
    "    def __init__(self, name, energy = 100):\n",
    "        self.name = name \n",
    "        self.energy = energy\n",
    "        \n",
    "    def play(self, play):\n",
    "        pet_play = play - 5\n",
    "        self.energy = pet_play \n",
    "        print(f\"*Insert an animal noise here* Thank you for the play time, I now have {pet_play}! Thank you!\")\n",
    "        \n",
    "    def feed(self, feed):\n",
    "        pet_feed = feed * 1.25\n",
    "        self.energy = pet_feed \n",
    "        print(f\"*Insert an animal noise here* Thank you for the play time, I now have {pet_feed:.0f}! Thank you!\")\n",
    "        \n",
    "    def rest(self, rest):\n",
    "        pet_rest = rest * 5\n",
    "        self.energy = pet_rest \n",
    "        print(f\"*Insert an animal noise here* Thank you for the play time, I now have {pet_rest:.0f}! Thank you!\")\n",
    "        \n",
    "animal1 = Animal('bird')\n",
    "animal2 = Animal('fish', 50)\n",
    "animal3 = Animal('dog', 3)\n",
    "\n",
    "animal1.play(100)\n",
    "animal2.feed(10)\n",
    "animal3.rest(2)"
   ]
  }
 ],
 "metadata": {
  "kernelspec": {
   "display_name": "Python 3 (ipykernel)",
   "language": "python",
   "name": "python3"
  },
  "language_info": {
   "codemirror_mode": {
    "name": "ipython",
    "version": 3
   },
   "file_extension": ".py",
   "mimetype": "text/x-python",
   "name": "python",
   "nbconvert_exporter": "python",
   "pygments_lexer": "ipython3",
   "version": "3.10.9"
  }
 },
 "nbformat": 4,
 "nbformat_minor": 2
}
